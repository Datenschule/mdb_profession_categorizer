{
 "cells": [
  {
   "cell_type": "code",
   "execution_count": 1,
   "metadata": {
    "collapsed": true
   },
   "outputs": [],
   "source": [
    "#importing libraries for fast mapping of cateogies (pandas) and importing json files (json)\n",
    "import pandas as pd\n",
    "import json"
   ]
  },
  {
   "cell_type": "code",
   "execution_count": 2,
   "metadata": {
    "collapsed": false
   },
   "outputs": [],
   "source": [
    "#opening json category files for mapping the eductional background\n",
    "with open('mdb_jobs_narrow.json') as jsonfile:\n",
    "    mdb_jobs_narrow = json.load(jsonfile)\n",
    "\n",
    "with open('mdb_jobs_broad.json') as jsonfile:\n",
    "    mdb_jobs_broad = json.load(jsonfile)"
   ]
  },
  {
   "cell_type": "code",
   "execution_count": 3,
   "metadata": {
    "collapsed": false
   },
   "outputs": [],
   "source": [
    "#function for narrow job-categorization\n",
    "def prof_mapping_narrow(mdb):\n",
    "    job_list = mdb.split(\",\")\n",
    "    job_map = []\n",
    "    for key,value in mdb_jobs_narrow.items(): \n",
    "        for v in value:\n",
    "            for job in job_list:\n",
    "                if job.lower() == v.lower():\n",
    "                    job_map.append(key)\n",
    "    for j in job_map:\n",
    "        return j"
   ]
  },
  {
   "cell_type": "code",
   "execution_count": 4,
   "metadata": {
    "collapsed": false
   },
   "outputs": [],
   "source": [
    "#function for broad job-categorization\n",
    "def prof_mapping_broad(mdb):\n",
    "    job_list = mdb.split(',')\n",
    "    job_map = []\n",
    "    for key,value in mdb_jobs_broad.items():\n",
    "        \n",
    "        for v in value:\n",
    "            for job in job_list:\n",
    "                if job.lower() == v.lower():\n",
    "                    job_map.append(key)\n",
    "    if not job_map:\n",
    "        return mdb\n",
    "        #print('not in broad_mapping')\n",
    "    else:\n",
    "        for j in job_map:\n",
    "            return j"
   ]
  },
  {
   "cell_type": "code",
   "execution_count": 5,
   "metadata": {
    "collapsed": false
   },
   "outputs": [],
   "source": [
    "#open mdb-educational background file as a pandas dataset\n",
    "df = pd.read_csv('mdb_professions.csv',sep=';')"
   ]
  },
  {
   "cell_type": "code",
   "execution_count": 6,
   "metadata": {
    "collapsed": false
   },
   "outputs": [],
   "source": [
    "df['prof_einheit'] = df['personal.education'].apply(prof_mapping_narrow)"
   ]
  },
  {
   "cell_type": "code",
   "execution_count": 7,
   "metadata": {
    "collapsed": false
   },
   "outputs": [
    {
     "data": {
      "text/plain": [
       "array([], dtype=object)"
      ]
     },
     "execution_count": 7,
     "metadata": {},
     "output_type": "execute_result"
    }
   ],
   "source": [
    "df[df['prof_einheit'].isnull()]['personal.education'].unique()"
   ]
  },
  {
   "cell_type": "code",
   "execution_count": 11,
   "metadata": {
    "collapsed": false
   },
   "outputs": [],
   "source": [
    "#if each mdb has a vaue for the narrow-job description, run braod categorizer\n",
    "#df = pd.read_csv('mdb_professions.csv',sep=';')\n",
    "if len(df[df['prof_einheit'].isnull()]) == 0:\n",
    "    #checks if file has no missing values\n",
    "    df['cat_broad'] = df.prof_einheit.apply(prof_mapping_broad)\n",
    "    df.to_csv('mdb_braod_jobs.csv',sep=\";\")\n",
    "else:\n",
    "    print('there seems to be missing narrow-job categories in the dataset')\n",
    "    "
   ]
  },
  {
   "cell_type": "code",
   "execution_count": 12,
   "metadata": {
    "collapsed": false
   },
   "outputs": [
    {
     "data": {
      "text/plain": [
       "Jurist*in                                               113\n",
       "Betriebswirt*in / Kaufmännische Tätigkeit / Handel       60\n",
       "Politikwissenschatflicher Hintergrund                    40\n",
       "Beamte*r / Tätigkeit in der Verwaltung                   38\n",
       "Ökonom*in / Volkswirt*in                                 33\n",
       "Handwerkschaftliche Berufe                               30\n",
       "Naturwissenschaftlicher Hintergrund                      29\n",
       "Lehrer/in                                                29\n",
       "Finanz-/Versicherungswesen                               27\n",
       "Management Tätigkeiten                                   25\n",
       "Agraringenieur*in / Landwirt*in                          23\n",
       "Sozialpädagoge*in / Sozialarbeiter*in                    20\n",
       "Sozialwissenschaftlicher Hintergrund                     18\n",
       "Medizinische/Psychologische Tätigkeit                    18\n",
       "Wissenschaft & Forschung                                 17\n",
       "Journalismus / Verlagswesen                              16\n",
       "Ingenieur*in                                             16\n",
       "Sonstige Tätigkeiten                                     15\n",
       "Medien- und Organisationsberatung                        14\n",
       "Gewerkschafter*in                                        10\n",
       "Polizei & Bundeswehr                                     10\n",
       "Lebensmittelbranche                                       7\n",
       "Sprach-/Kommunikationswissenschaftlicher Hintergrund      7\n",
       "Informatiker*in                                           5\n",
       "Kulturelle und künstlerische Tätigkeiten                  4\n",
       "Religionswissenschaftlicher Hintergrund                   4\n",
       "Politisches Amt / Minister*in                             2\n",
       "Name: cat_broad, dtype: int64"
      ]
     },
     "execution_count": 12,
     "metadata": {},
     "output_type": "execute_result"
    }
   ],
   "source": [
    "df['cat_broad'].value_counts()\n",
    "\n",
    "\n",
    "\n"
   ]
  },
  {
   "cell_type": "code",
   "execution_count": null,
   "metadata": {
    "collapsed": true
   },
   "outputs": [],
   "source": []
  },
  {
   "cell_type": "code",
   "execution_count": null,
   "metadata": {
    "collapsed": true
   },
   "outputs": [],
   "source": []
  }
 ],
 "metadata": {
  "kernelspec": {
   "display_name": "Python 3",
   "language": "python",
   "name": "python3"
  },
  "language_info": {
   "codemirror_mode": {
    "name": "ipython",
    "version": 3
   },
   "file_extension": ".py",
   "mimetype": "text/x-python",
   "name": "python",
   "nbconvert_exporter": "python",
   "pygments_lexer": "ipython3",
   "version": "3.5.2"
  }
 },
 "nbformat": 4,
 "nbformat_minor": 1
}
